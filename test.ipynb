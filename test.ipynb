{
 "cells": [
  {
   "cell_type": "code",
   "execution_count": null,
   "metadata": {},
   "outputs": [],
   "source": [
    "import cv2\n",
    "from pathlib import Path\n",
    "import numpy as np\n",
    "from matplotlib import pyplot as plt\n",
    "import pandas as pd\n",
    "from itertools import combinations\n",
    "from capture import CAMERA_WALL_DISTANCE"
   ]
  },
  {
   "cell_type": "code",
   "execution_count": null,
   "metadata": {},
   "outputs": [],
   "source": [
    "data_dir = Path(\"data\")\n",
    "\n",
    "devices = {}\n",
    "\n",
    "for device_dir in data_dir.iterdir():\n",
    "\tif not device_dir.is_dir():\n",
    "\t\tcontinue\n",
    "\tprint(device_dir.name)\n",
    "\n",
    "\timages = {}\n",
    "\tfor image_dir in device_dir.glob(\"*.png\"):\n",
    "\t\timages[image_dir.stem] = cv2.imread(str(image_dir))\n",
    "\n",
    "\tdevices[device_dir.name] = images\n",
    "\n"
   ]
  },
  {
   "cell_type": "code",
   "execution_count": null,
   "metadata": {},
   "outputs": [],
   "source": [
    "aruco_dict = cv2.aruco.getPredefinedDictionary(cv2.aruco.DICT_6X6_250)\n",
    "\n",
    "def get_corners(image):\n",
    "\t\"\"\" Get the corners of the noise pattern board \"\"\"\n",
    "\t\n",
    "\tcorners, ids, rejectedImgPoints = cv2.aruco.detectMarkers(image, aruco_dict)\n",
    "\tinds = np.argsort(ids.flatten())\n",
    "\tcorners_sorted = np.array(corners)[inds]\n",
    "\tif len(corners_sorted) != 4:\n",
    "\t\traise Exception(\"Noise pattern board not found\")\n",
    "\n",
    "\tcenter = np.array([m.mean(axis=1).flatten() for m in corners_sorted]).mean(axis=0)\n",
    "\n",
    "\tpoints = []\n",
    "\tfor m in corners_sorted:\n",
    "\t\ti = np.linalg.norm(m - center, axis=-1).argmin()\n",
    "\t\tpoints.append(m[:, i])\n",
    "\n",
    "\tpoints = np.array(points).reshape(-1, 2)\n",
    "\n",
    "\treturn points\n",
    "\n",
    "def get_center(points):\n",
    "\tcenter = points.mean(axis=0)\n",
    "\treturn center[0], center[1]\n",
    "\n",
    "def get_rotation(points):\n",
    "\tcenter_bottom = (points[0] + points[1]) / 2\n",
    "\tcenter_top = (points[2] + points[3]) / 2\n",
    "\td = center_bottom - center_top\n",
    "\tangle = np.arctan2(*d)\n",
    "\treturn angle\n",
    "\n",
    "def get_board_width(points):\n",
    "\treturn np.linalg.norm(points[0] - points[1])\n",
    "\t"
   ]
  },
  {
   "cell_type": "code",
   "execution_count": null,
   "metadata": {},
   "outputs": [],
   "source": [
    "center_bottom = np.array([-4, 600])\n",
    "center_top = np.array([0, 0])\n",
    "d = center_bottom - center_top\n",
    "angle = np.arctan2(*d)\n",
    "angle_deg = np.rad2deg(angle)\n",
    "print(angle_deg)"
   ]
  },
  {
   "cell_type": "code",
   "execution_count": null,
   "metadata": {},
   "outputs": [],
   "source": [
    "results = []\n",
    "\n",
    "offsets = { # compensation for different camera positions (in m)\n",
    "    \"right\": -0.0375,\n",
    "    \"rectified_right\": -0.0375,\n",
    "    \"color\": 0,\n",
    "    \"left\": 0.0375,\n",
    "    \"rectified_left\": 0.0375,\n",
    "}\n",
    "\n",
    "for mxid, images in devices.items():\n",
    "    result = {\"mxid\": mxid}\n",
    "\n",
    "    for name, img in images.items():\n",
    "        points = get_corners(img)\n",
    "        center_x, center_y = get_center(points)\n",
    "        angle = get_rotation(points)\n",
    "        board_width = get_board_width(points)\n",
    "        px2m = 0.6 / board_width\n",
    "\n",
    "        offset = offsets[name]\n",
    "\n",
    "        result[f\"{name}_roll_angle\"] = np.rad2deg(angle)\n",
    "        result[f\"{name}_yaw_angle\"] = np.rad2deg(np.arctan2(offset + px2m * (img.shape[1]/2 - center_x), CAMERA_WALL_DISTANCE))\n",
    "        result[f\"{name}_pitch_angle\"] = np.rad2deg(np.arctan2(px2m * (img.shape[0]/2 - center_y), CAMERA_WALL_DISTANCE))\n",
    "\n",
    "\n",
    "    for cam_a, cam_b in combinations([\"left\", \"right\", \"color\"], 2):\n",
    "        result[f\"{cam_a}_{cam_b}_roll_diff\"] = np.abs(result[f\"{cam_a}_roll_angle\"] - result[f\"{cam_b}_roll_angle\"])\n",
    "        result[f\"{cam_a}_{cam_b}_yaw_diff\"] = np.abs(result[f\"{cam_a}_yaw_angle\"] - result[f\"{cam_b}_yaw_angle\"])\n",
    "        result[f\"{cam_a}_{cam_b}_pitch_diff\"] = np.abs(result[f\"{cam_a}_pitch_angle\"] - result[f\"{cam_b}_pitch_angle\"])\n",
    "\n",
    "    for cam_a, cam_b in combinations([\"rectified_left\", \"rectified_right\"], 2):\n",
    "        result[f\"{cam_a}_{cam_b}_roll_diff\"] = np.abs(result[f\"{cam_a}_roll_angle\"] - result[f\"{cam_b}_roll_angle\"])\n",
    "        result[f\"{cam_a}_{cam_b}_yaw_diff\"] = np.abs(result[f\"{cam_a}_yaw_angle\"] - result[f\"{cam_b}_yaw_angle\"])\n",
    "        result[f\"{cam_a}_{cam_b}_pitch_diff\"] = np.abs(result[f\"{cam_a}_pitch_angle\"] - result[f\"{cam_b}_pitch_angle\"])\n",
    "\n",
    "    results.append(result)\n",
    "\n",
    "results_df = pd.DataFrame(results)\n",
    "results_df.transpose()"
   ]
  },
  {
   "cell_type": "code",
   "execution_count": null,
   "metadata": {},
   "outputs": [],
   "source": [
    "results_df[[\"right_color_roll_diff\", \"right_color_yaw_diff\", \"right_color_pitch_diff\"]].mean()"
   ]
  },
  {
   "cell_type": "code",
   "execution_count": null,
   "metadata": {},
   "outputs": [],
   "source": [
    "results_df.std(numeric_only=True)"
   ]
  },
  {
   "cell_type": "code",
   "execution_count": null,
   "metadata": {},
   "outputs": [],
   "source": [
    "np.mean(np.abs(results_df[\"color_roll_angle\"].to_numpy()))"
   ]
  },
  {
   "cell_type": "code",
   "execution_count": null,
   "metadata": {},
   "outputs": [],
   "source": [
    "mount_roll_angle = np.mean([\n",
    "\tnp.mean(results_df[\"color_roll_angle\"].to_numpy()),\n",
    "\tnp.mean(results_df[\"left_roll_angle\"].to_numpy()),\n",
    "\tnp.mean(results_df[\"right_roll_angle\"].to_numpy())\n",
    "])\n",
    "\n",
    "mount_yaw_angle = np.mean([\n",
    "\tnp.mean(results_df[\"color_yaw_angle\"].to_numpy()),\n",
    "\tnp.mean(results_df[\"left_yaw_angle\"].to_numpy()),\n",
    "\tnp.mean(results_df[\"right_yaw_angle\"].to_numpy())\n",
    "])\n",
    "\n",
    "mount_pitch_angle = np.mean([\n",
    "\tnp.mean(results_df[\"color_pitch_angle\"].to_numpy()),\n",
    "\tnp.mean(results_df[\"left_pitch_angle\"].to_numpy()),\n",
    "\tnp.mean(results_df[\"right_pitch_angle\"].to_numpy())\n",
    "])\n",
    "\n",
    "print(f\"mount_roll_angle: {mount_roll_angle}\")\n",
    "print(f\"mount_yaw_angle: {mount_yaw_angle}\")\n",
    "print(f\"mount_pitch_angle: {mount_pitch_angle}\")\n",
    "\n",
    "results_corrected = results_df.copy()\n",
    "results_corrected[\"color_roll_angle\"] -= mount_roll_angle\n",
    "results_corrected[\"left_roll_angle\"] -= mount_roll_angle\n",
    "results_corrected[\"right_roll_angle\"] -= mount_roll_angle\n",
    "results_corrected[\"rectified_right_roll_angle\"] -= mount_roll_angle\n",
    "results_corrected[\"rectified_left_roll_angle\"] -= mount_roll_angle\n",
    "\n",
    "results_corrected[\"color_yaw_angle\"] -= mount_yaw_angle\n",
    "results_corrected[\"left_yaw_angle\"] -= mount_yaw_angle\n",
    "results_corrected[\"right_yaw_angle\"] -= mount_yaw_angle\n",
    "results_corrected[\"rectified_right_yaw_angle\"] -= mount_yaw_angle\n",
    "results_corrected[\"rectified_left_yaw_angle\"] -= mount_yaw_angle\n",
    "\n",
    "results_corrected[\"color_pitch_angle\"] -= mount_pitch_angle\n",
    "results_corrected[\"left_pitch_angle\"] -= mount_pitch_angle\n",
    "results_corrected[\"right_pitch_angle\"] -= mount_pitch_angle\n",
    "results_corrected[\"rectified_right_pitch_angle\"] -= mount_pitch_angle\n",
    "results_corrected[\"rectified_left_pitch_angle\"] -= mount_pitch_angle\n",
    "\n"
   ]
  },
  {
   "cell_type": "code",
   "execution_count": null,
   "metadata": {},
   "outputs": [],
   "source": [
    "results_corrected[\"color_roll_angle_ok\"] = np.abs(results_corrected[\"color_roll_angle\"]) < 0.5\n",
    "results_corrected[\"color_yaw_angle_ok\"] = np.abs(results_corrected[\"color_yaw_angle\"]) < 1.0\n",
    "results_corrected[\"color_pitch_angle_ok\"] = np.abs(results_corrected[\"color_pitch_angle\"]) < 1.2\n",
    "\n",
    "results_corrected[\"left_roll_angle_ok\"] = np.abs(results_corrected[\"left_roll_angle\"]) < 0.5\n",
    "results_corrected[\"left_yaw_angle_ok\"] = np.abs(results_corrected[\"left_yaw_angle\"]) < 2.0\n",
    "results_corrected[\"left_pitch_angle_ok\"] = np.abs(results_corrected[\"left_pitch_angle\"]) < 1.5\n",
    "\n",
    "results_corrected[\"rectified_right_roll_angle_ok\"] = np.abs(results_corrected[\"rectified_right_roll_angle\"]) < 0.5\n",
    "results_corrected[\"rectified_right_yaw_angle_ok\"] = np.abs(results_corrected[\"rectified_right_yaw_angle\"]) < 2.0\n",
    "results_corrected[\"rectified_right_pitch_angle_ok\"] = np.abs(results_corrected[\"rectified_right_pitch_angle\"]) < 1.5\n",
    "\n",
    "results_corrected[\"rectified_left_roll_angle_ok\"] = np.abs(results_corrected[\"rectified_left_roll_angle\"]) < 0.5\n",
    "results_corrected[\"rectified_left_yaw_angle_ok\"] = np.abs(results_corrected[\"rectified_left_yaw_angle\"]) < 2.0\n",
    "results_corrected[\"rectified_left_pitch_angle_ok\"] = np.abs(results_corrected[\"rectified_left_pitch_angle\"]) < 1.5\n",
    "\n",
    "results_corrected[\"right_roll_angle_ok\"] = np.abs(results_corrected[\"right_roll_angle\"]) < 0.5\n",
    "results_corrected[\"right_yaw_angle_ok\"] = np.abs(results_corrected[\"right_yaw_angle\"]) < 2.0\n",
    "results_corrected[\"right_pitch_angle_ok\"] = np.abs(results_corrected[\"right_pitch_angle\"]) < 1.5\n",
    "\n",
    "\n",
    "# results_corrected[\"left_right_roll_diff_ok\"] = results_corrected[\"left_right_roll_diff\"] < 0.3\n",
    "# results_corrected[\"left_right_yaw_diff_ok\"] = results_corrected[\"left_right_yaw_diff\"] < 0.8\n",
    "# results_corrected[\"left_right_pitch_diff_ok\"] = results_corrected[\"left_right_pitch_diff\"] < 0.15\n",
    "\n"
   ]
  },
  {
   "cell_type": "code",
   "execution_count": null,
   "metadata": {},
   "outputs": [],
   "source": [
    "results_corrected.transpose().to_excel(\"results.xlsx\")"
   ]
  },
  {
   "cell_type": "code",
   "execution_count": null,
   "metadata": {},
   "outputs": [],
   "source": [
    "list(combinations([1,2,3], r=2))"
   ]
  }
 ],
 "metadata": {
  "kernelspec": {
   "display_name": "Python 3",
   "language": "python",
   "name": "python3"
  },
  "language_info": {
   "codemirror_mode": {
    "name": "ipython",
    "version": 3
   },
   "file_extension": ".py",
   "mimetype": "text/x-python",
   "name": "python",
   "nbconvert_exporter": "python",
   "pygments_lexer": "ipython3",
   "version": "3.9.13"
  },
  "orig_nbformat": 4
 },
 "nbformat": 4,
 "nbformat_minor": 2
}
